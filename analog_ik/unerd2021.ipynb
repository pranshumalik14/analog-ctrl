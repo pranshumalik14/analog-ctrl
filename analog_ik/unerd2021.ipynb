{
 "metadata": {
  "language_info": {
   "codemirror_mode": {
    "name": "ipython",
    "version": 3
   },
   "file_extension": ".py",
   "mimetype": "text/x-python",
   "name": "python",
   "nbconvert_exporter": "python",
   "pygments_lexer": "ipython3",
   "version": "3.6.9"
  },
  "orig_nbformat": 4,
  "kernelspec": {
   "name": "python3",
   "display_name": "Python 3.6.9 64-bit"
  },
  "interpreter": {
   "hash": "31f2aee4e71d21fbe5cf8b01ff0e069b9275f58929596ceb00d14d90e3e16cd6"
  }
 },
 "nbformat": 4,
 "nbformat_minor": 2,
 "cells": [
  {
   "cell_type": "code",
   "execution_count": 1,
   "metadata": {},
   "outputs": [],
   "source": [
    "import roboticstoolbox as rtb\n",
    "from roboticstoolbox import *\n",
    "from spatialmath.base import *\n",
    "from spatialmath import *"
   ]
  },
  {
   "cell_type": "code",
   "execution_count": 2,
   "metadata": {},
   "outputs": [
    {
     "output_type": "execute_result",
     "data": {
      "text/plain": [
       "array([[cos(ψ)*cos(ϴ), sin(φ)*sin(ϴ)*cos(ψ) - sin(ψ)*cos(φ),\n",
       "        sin(φ)*sin(ψ) + sin(ϴ)*cos(φ)*cos(ψ), 0],\n",
       "       [sin(ψ)*cos(ϴ), sin(φ)*sin(ψ)*sin(ϴ) + cos(φ)*cos(ψ),\n",
       "        -sin(φ)*cos(ψ) + sin(ψ)*sin(ϴ)*cos(φ), 0],\n",
       "       [-sin(ϴ), sin(φ)*cos(ϴ), cos(φ)*cos(ϴ), 0],\n",
       "       [0, 0, 0, 1]], dtype=object)"
      ]
     },
     "metadata": {},
     "execution_count": 2
    }
   ],
   "source": [
    "import spatialmath.base.symbolic as sym\n",
    "phi, theta, psi = sym.symbol('φ, ϴ, ψ')\n",
    "rpy2tr(phi, theta, psi)"
   ]
  },
  {
   "cell_type": "code",
   "execution_count": 10,
   "metadata": {},
   "outputs": [],
   "source": [
    "q1, q2, q3, a1, a2, a3, l0 = sym.symbol('q₁, q₂, q₃, a₁, a₂, a₃, l0')\n",
    "E  = SE2(a1, 0, q1) * SE2(a2, 0, q2) * SE2(a3 + q3, 0, l0) # fails at SE2(a3 + q3, 0, 0)\n"
   ]
  },
  {
   "cell_type": "code",
   "execution_count": 11,
   "metadata": {},
   "outputs": [
    {
     "output_type": "stream",
     "name": "stdout",
     "text": [
      "  \u001b[38;5;1m(-sin(q₁)*sin(q₂) + cos(q₁)*cos(q₂))*cos(l0) + (-sin(q₁)*cos(q₂) - sin(q₂)*cos(q₁))*sin(l0)\u001b[0m \u001b[38;5;1m-(-sin(q₁)*sin(q₂) + cos(q₁)*cos(q₂))*sin(l0) + (-sin(q₁)*cos(q₂) - sin(q₂)*cos(q₁))*cos(l0)\u001b[0m \u001b[38;5;4ma₁ + a₂*cos(q₁) + (a₃ + q₃)*(-sin(q₁)*sin(q₂) + cos(q₁)*cos(q₂))\u001b[0m  \u001b[0m\n  \u001b[38;5;1m(-sin(q₁)*sin(q₂) + cos(q₁)*cos(q₂))*sin(l0) + (sin(q₁)*cos(q₂) + sin(q₂)*cos(q₁))*cos(l0)\u001b[0m \u001b[38;5;1m(-sin(q₁)*sin(q₂) + cos(q₁)*cos(q₂))*cos(l0) - (sin(q₁)*cos(q₂) + sin(q₂)*cos(q₁))*sin(l0)\u001b[0m \u001b[38;5;4ma₂*sin(q₁) + (a₃ + q₃)*(sin(q₁)*cos(q₂) + sin(q₂)*cos(q₁))\u001b[0m  \u001b[0m\n  \u001b[38;5;244m0           \u001b[0m \u001b[38;5;244m0           \u001b[0m \u001b[38;5;244m1           \u001b[0m  \u001b[0m\n\n"
     ]
    }
   ],
   "source": [
    "print(E)"
   ]
  },
  {
   "cell_type": "code",
   "execution_count": 13,
   "metadata": {},
   "outputs": [
    {
     "output_type": "execute_result",
     "data": {
      "text/plain": [
       "array([a₁ + a₂*cos(q₁) + (a₃ + q₃)*(-sin(q₁)*sin(q₂) + cos(q₁)*cos(q₂)),\n",
       "       a₂*sin(q₁) + (a₃ + q₃)*(sin(q₁)*cos(q₂) + sin(q₂)*cos(q₁))],\n",
       "      dtype=object)"
      ]
     },
     "metadata": {},
     "execution_count": 13
    }
   ],
   "source": [
    "E.t"
   ]
  },
  {
   "cell_type": "code",
   "execution_count": 14,
   "metadata": {},
   "outputs": [
    {
     "output_type": "execute_result",
     "data": {
      "text/plain": [
       "array([[(-sin(q₁)*sin(q₂) + cos(q₁)*cos(q₂))*cos(l0) + (-sin(q₁)*cos(q₂) - sin(q₂)*cos(q₁))*sin(l0),\n",
       "        -(-sin(q₁)*sin(q₂) + cos(q₁)*cos(q₂))*sin(l0) + (-sin(q₁)*cos(q₂) - sin(q₂)*cos(q₁))*cos(l0)],\n",
       "       [(-sin(q₁)*sin(q₂) + cos(q₁)*cos(q₂))*sin(l0) + (sin(q₁)*cos(q₂) + sin(q₂)*cos(q₁))*cos(l0),\n",
       "        (-sin(q₁)*sin(q₂) + cos(q₁)*cos(q₂))*cos(l0) - (sin(q₁)*cos(q₂) + sin(q₂)*cos(q₁))*sin(l0)]],\n",
       "      dtype=object)"
      ]
     },
     "metadata": {},
     "execution_count": 14
    }
   ],
   "source": [
    "E.R"
   ]
  },
  {
   "cell_type": "code",
   "execution_count": null,
   "metadata": {},
   "outputs": [],
   "source": []
  }
 ]
}